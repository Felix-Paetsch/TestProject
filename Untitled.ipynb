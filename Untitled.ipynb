{
 "cells": [
  {
   "cell_type": "code",
   "execution_count": 1,
   "id": "3b88fe89-822c-4f6d-86b6-2794e42e991b",
   "metadata": {},
   "outputs": [],
   "source": [
    "import webview\n",
    "\n",
    "window = webview.create_window('Woah dude!', 'https://pywebview.flowrl.com')\n",
    "webview.start()"
   ]
  },
  {
   "cell_type": "code",
   "execution_count": 1,
   "id": "f692046d-0755-4547-93ea-cb5a59300a5d",
   "metadata": {},
   "outputs": [
    {
     "name": "stdout",
     "output_type": "stream",
     "text": [
      "Selected directory: C:/Users/felix/dlc/Love/Love-FelixP-2021-10-31/labeled-data\n"
     ]
    }
   ],
   "source": [
    "import tkinter as tk\n",
    "from tkinter import filedialog\n",
    "\n",
    "root = tk.Tk()\n",
    "# root.withdraw()  # Hide main window\n",
    "directory = filedialog.askdirectory(title=\"Select a directory\")\n",
    "if directory:\n",
    "    print(\"Selected directory:\", directory)\n",
    "else:\n",
    "    print(\"No directory selected.\")\n"
   ]
  },
  {
   "cell_type": "code",
   "execution_count": 1,
   "id": "0d353695-58a6-4933-8de7-029b291cce75",
   "metadata": {},
   "outputs": [
    {
     "data": {
      "text/plain": [
       "3"
      ]
     },
     "execution_count": 1,
     "metadata": {},
     "output_type": "execute_result"
    }
   ],
   "source": [
    "3"
   ]
  },
  {
   "cell_type": "code",
   "execution_count": null,
   "id": "97628e82-d896-419d-bf56-f5ed8e2e5e24",
   "metadata": {},
   "outputs": [],
   "source": [
    "import promptlib\n",
    "\n",
    "prompter = promptlib.Files()\n",
    "\n",
    "dir = prompter.dir()\n",
    "file = prompter.file()\n",
    "\n",
    "print(dir, '\\n', file)"
   ]
  },
  {
   "cell_type": "code",
   "execution_count": 2,
   "id": "aa38b535-308f-47bc-a15c-7da717adf7fb",
   "metadata": {},
   "outputs": [
    {
     "name": "stdout",
     "output_type": "stream",
     "text": [
      "Selected folder: C:/Users/felix/dlc/Love/Love-FelixP-2021-10-31/labeled-data/video\n"
     ]
    }
   ],
   "source": [
    "import tkinter as tk\n",
    "from tkinter import filedialog\n",
    "\n",
    "root = tk.Tk()\n",
    "folder_path = filedialog.askdirectory()\n",
    "print(\"Selected folder:\", folder_path)\n",
    "root.destroy()"
   ]
  },
  {
   "cell_type": "code",
   "execution_count": 1,
   "id": "9a0ad1b8-b79d-4347-b275-ed6ffd2654aa",
   "metadata": {},
   "outputs": [
    {
     "data": {
      "text/plain": [
       "3"
      ]
     },
     "execution_count": 1,
     "metadata": {},
     "output_type": "execute_result"
    }
   ],
   "source": [
    "3import tkinter as tk\n",
    "from tkinter import filedialog\n",
    "\n",
    "#root = tk.Tk()\n",
    "folder_path = filedialog.askdirectory()\n",
    "print(\"Selected folder:\", folder_path)\n",
    "root.destroy()"
   ]
  },
  {
   "cell_type": "code",
   "execution_count": null,
   "id": "73dae0c2-96be-4708-8f05-922cd4f8340f",
   "metadata": {},
   "outputs": [],
   "source": []
  }
 ],
 "metadata": {
  "kernelspec": {
   "display_name": "Python 3 (ipykernel)",
   "language": "python",
   "name": "python3"
  },
  "language_info": {
   "codemirror_mode": {
    "name": "ipython",
    "version": 3
   },
   "file_extension": ".py",
   "mimetype": "text/x-python",
   "name": "python",
   "nbconvert_exporter": "python",
   "pygments_lexer": "ipython3",
   "version": "3.12.9"
  }
 },
 "nbformat": 4,
 "nbformat_minor": 5
}
